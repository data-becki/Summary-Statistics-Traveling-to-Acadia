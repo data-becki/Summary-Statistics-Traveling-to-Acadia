{
 "cells": [
  {
   "cell_type": "markdown",
   "id": "f9a8fe37",
   "metadata": {},
   "source": [
    "# Traveling to Acadia\n",
    "\n",
    "Imagine you work at a travel agency and want to inform your customers of the best time to visit one of your favorite vacation locations, Acadia, Maine. \n",
    "\n",
    "In this project, you will use flower bloom data, and flight information to recommend the best time of year for someone to make a trip to Maine.\n",
    "\n",
    "\n",
    "-    `in_bloom` is a NumPy array containing 900 numbers. Each number is a day of the year, which represents the average start date of a flower blooming.\n",
    "-    `flights` is a NumPy array with 11,000 numbers. Each number is a day of the year, which represents a flight from your hometown to airports near Acadia, Maine.\n",
    "\n",
    "Your goal is to create two histograms, each displaying the frequency of an occurrence each day of the year (either flights or flower blooms).\n",
    "\n",
    "You will use the `in_bloom` variable to find a count of the number of flowers that start blooming each day of the year.\n",
    "\n",
    "You will use the `flights` variable to find a count of the number of flights that occur each day of the year."
   ]
  },
  {
   "cell_type": "code",
   "execution_count": 1,
   "id": "f91420db",
   "metadata": {},
   "outputs": [],
   "source": [
    "import numpy as np\n",
    "from matplotlib import pyplot as plt"
   ]
  },
  {
   "cell_type": "code",
   "execution_count": 2,
   "id": "bfaf32d0",
   "metadata": {},
   "outputs": [],
   "source": [
    "# load in data\n",
    "in_bloom = np.loadtxt(open(\"in-bloom.csv\"), delimiter=\",\")\n",
    "flights = np.loadtxt(open(\"flights.csv\"), delimiter=\",\")"
   ]
  },
  {
   "cell_type": "code",
   "execution_count": 4,
   "id": "82e68743",
   "metadata": {},
   "outputs": [
    {
     "data": {
      "text/plain": [
       "(45.0, 349.0)"
      ]
     },
     "execution_count": 4,
     "metadata": {},
     "output_type": "execute_result"
    }
   ],
   "source": [
    "bloom_min = np.amin(in_bloom)\n",
    "bloom_max = np.amax(in_bloom)\n",
    "bloom_min, bloom_max"
   ]
  },
  {
   "cell_type": "code",
   "execution_count": 5,
   "id": "566b8adb",
   "metadata": {},
   "outputs": [
    {
     "data": {
      "text/plain": [
       "(1.0, 365.0)"
      ]
     },
     "execution_count": 5,
     "metadata": {},
     "output_type": "execute_result"
    }
   ],
   "source": [
    "flights_min = np.amin(flights)\n",
    "flights_max = np.amax(flights)\n",
    "flights_min, flights_max"
   ]
  },
  {
   "cell_type": "markdown",
   "id": "44447cdf",
   "metadata": {},
   "source": [
    "## Making a Histogram"
   ]
  },
  {
   "cell_type": "markdown",
   "id": "f4ac81ed",
   "metadata": {},
   "source": [
    "1. Use Matplotlib to create a flights histogram.\n",
    "2. If you haven’t done so already, set the range of your histogram to `(0, 365)`\n",
    "3. Set the number of bins in your plot to 365, so you have a separate bin for each day of the year.\n",
    "4. Add an x-label, y-label, and title to your figure."
   ]
  },
  {
   "cell_type": "code",
   "execution_count": 6,
   "id": "0b7394ab",
   "metadata": {
    "scrolled": true
   },
   "outputs": [
    {
     "data": {
      "image/png": "[encoded data removed]",
      "text/plain": [
       "<Figure size 432x288 with 1 Axes>"
      ]
     },
     "metadata": {
      "needs_background": "light"
     },
     "output_type": "display_data"
    }
   ],
   "source": [
    "# Use Matplotlib to create a flights histogram.\n",
    "plt.hist(flights, range = (0, 365), bins = 365)\n",
    "plt.title('Number of flights to Acadia per day of year')\n",
    "plt.xlabel('Day of the year')\n",
    "plt.ylabel('Count')\n",
    "\n",
    "plt.show()"
   ]
  },
  {
   "cell_type": "markdown",
   "id": "b464bdb6",
   "metadata": {},
   "source": [
    "## Multiple Plots"
   ]
  },
  {
   "cell_type": "markdown",
   "id": "8183344c",
   "metadata": {},
   "source": [
    "5. Now, we’re going to set up our figure so it displays two plots at once. Above your `plt.hist()` line, add the following:\n",
    "\n",
    "        plt.figure(1)\n",
    "        plt.subplot(211)\n",
    "\n",
    "6. Between the last line for plotting your histogram and the show command, add `plt.subplot(212)`.\n",
    "\n",
    "    At this point, your code should look something like:\n",
    "\n",
    "        plt.figure(1)\n",
    "        plt.subplot(211)\n",
    "\n",
    "        plt.hist(flights, range=(0, 365), bins=365)\n",
    "        plt.title(\"Flights by Day\")\n",
    "        plt.xlabel(\"Day of the Year\")\n",
    "        plt.ylabel(\"Flight Count\")\n",
    "\n",
    "        plt.subplot(212)\n",
    "        # Next histogram below\n",
    " \n",
    " \n",
    "        plt.show()"
   ]
  },
  {
   "cell_type": "markdown",
   "id": "d75f6dc6",
   "metadata": {},
   "source": [
    "## Second Histogram"
   ]
  },
  {
   "cell_type": "markdown",
   "id": "cdc41c79",
   "metadata": {},
   "source": [
    "7. Under `plt.subplot(212)`, use `lt.hist()` to make a histogram that displays the number of flowers that begin to bloom each day of the year.\n",
    "8. Label the y-axis of the plot. Right before calling `plt.show()` call `plt.tight_layout()`. This will prevent the labels from overlapping with the graphs."
   ]
  },
  {
   "cell_type": "code",
   "execution_count": 7,
   "id": "a7694cd1",
   "metadata": {
    "scrolled": true
   },
   "outputs": [
    {
     "data": {
      "image/png": "[encoded data removed]",
      "text/plain": [
       "<Figure size 432x288 with 2 Axes>"
      ]
     },
     "metadata": {
      "needs_background": "light"
     },
     "output_type": "display_data"
    }
   ],
   "source": [
    "plt.figure(1)\n",
    "plt.subplot(211)\n",
    "\n",
    "plt.figure(1)\n",
    "plt.subplot(211)\n",
    " \n",
    "plt.hist(flights, range=(0, 365), bins=365)\n",
    "plt.title(\"Flights to Acadia by Day\")\n",
    "plt.xlabel(\"Day of the Year\")\n",
    "plt.ylabel(\"Flight Count\")\n",
    " \n",
    "plt.subplot(212)\n",
    "# Next histogram below\n",
    "\n",
    "plt.hist(in_bloom, range = (0, 365), bins = 365)\n",
    "plt.title(\"Flowers starting to bloom by Day\")\n",
    "plt.xlabel('Day of the Year')\n",
    "plt.ylabel('Bloom Count')\n",
    "\n",
    "plt.tight_layout()\n",
    "plt.show()"
   ]
  },
  {
   "cell_type": "markdown",
   "id": "61b03d22",
   "metadata": {},
   "source": [
    "## Thinking About the Data"
   ]
  },
  {
   "cell_type": "markdown",
   "id": "1fe239cf",
   "metadata": {},
   "source": [
    "9. How would you use these histograms to help inform customers when they should go to Acadia, Maine. For example, if someone said they wanted to visit Acadia while there weren’t many people there, but while flowers were blooming, when would you recommend?"
   ]
  },
  {
   "cell_type": "markdown",
   "id": "2d41e1b0",
   "metadata": {},
   "source": [
    "*Convert the day of the year to month/week, go between day 250 and day 300 to get the less busy flights and most blooms, or the days leading up to 150 to get the most blooms, but crowded flights.*\n"
   ]
  }
 ],
 "metadata": {
  "kernelspec": {
   "display_name": "Python 3 (ipykernel)",
   "language": "python",
   "name": "python3"
  },
  "language_info": {
   "codemirror_mode": {
    "name": "ipython",
    "version": 3
   },
   "file_extension": ".py",
   "mimetype": "text/x-python",
   "name": "python",
   "nbconvert_exporter": "python",
   "pygments_lexer": "ipython3",
   "version": "3.9.7"
  }
 },
 "nbformat": 4,
 "nbformat_minor": 5
}
